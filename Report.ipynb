{
    "nbformat_minor": 1, 
    "cells": [
        {
            "source": "Introduction/Business Problem:\n    For my final project I want to work on a question that if someone wants to open a restaurant, identifying the location to open a restaurant. Suggesting the type of cuisine will be appropriate based on the surrounding restaurants. For this project, I want to use the available data set which is Toronto data( from the previous assignment). \n    ", 
            "cell_type": "markdown", 
            "metadata": {
                "collapsed": true
            }
        }, 
        {
            "execution_count": null, 
            "cell_type": "code", 
            "metadata": {}, 
            "outputs": [], 
            "source": ""
        }
    ], 
    "metadata": {
        "kernelspec": {
            "display_name": "Python 3.6", 
            "name": "python3", 
            "language": "python"
        }, 
        "language_info": {
            "mimetype": "text/x-python", 
            "nbconvert_exporter": "python", 
            "version": "3.6.8", 
            "name": "python", 
            "file_extension": ".py", 
            "pygments_lexer": "ipython3", 
            "codemirror_mode": {
                "version": 3, 
                "name": "ipython"
            }
        }
    }, 
    "nbformat": 4
}