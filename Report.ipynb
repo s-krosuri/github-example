{
    "nbformat_minor": 1, 
    "cells": [
        {
            "source": "Introduction/Business Problem:\n    For my final project I want to work on a question that if someone wants to open a restaurant, identifying the location to open a restaurant. Suggesting the type of cuisine will be appropriate based on the surrounding restaurants. For this project, I want to use the available data set which is Toronto data( from the previous assignment). \n    ", 
            "cell_type": "markdown", 
            "metadata": {
                "collapsed": true
            }
        }, 
        {
            "execution_count": null, 
            "cell_type": "code", 
            "metadata": {}, 
            "outputs": [], 
            "source": "Data Section:\n    Toronto data set has 5 variables Postcode, Borough, Neighborhood, Latitude, and lonigtude. Using explore and clustering methods in the previous assignment I filtered the data set from total 103 rows to 38 rows\n    that contains one particular location. Using Foursquare API identifying the venues around the neighborhood. Exploring different types of venues around the location. \n    counting each type of venues in the area. Spot different least and top of venues. To work further into this project we can add ratings and tip column to each venue. \n    I want to use Foursquare Api is used to explore the venues and maps"
        }
    ], 
    "metadata": {
        "kernelspec": {
            "display_name": "Python 3.6", 
            "name": "python3", 
            "language": "python"
        }, 
        "language_info": {
            "mimetype": "text/x-python", 
            "nbconvert_exporter": "python", 
            "version": "3.6.8", 
            "name": "python", 
            "file_extension": ".py", 
            "pygments_lexer": "ipython3", 
            "codemirror_mode": {
                "version": 3, 
                "name": "ipython"
            }
        }
    }, 
    "nbformat": 4
}